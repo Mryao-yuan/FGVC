{
 "cells": [
  {
   "cell_type": "code",
   "execution_count": 1,
   "id": "27525e4c",
   "metadata": {},
   "outputs": [
    {
     "name": "stdout",
     "output_type": "stream",
     "text": [
      "--2022-11-07 10:26:55--  https://zihao-openmmlab.obs.cn-east-3.myhuaweicloud.com/20220716-mmclassification/dataset/SimHei.ttf\n",
      "正在解析主机 zihao-openmmlab.obs.cn-east-3.myhuaweicloud.com (zihao-openmmlab.obs.cn-east-3.myhuaweicloud.com)... 121.36.235.132\n",
      "正在连接 zihao-openmmlab.obs.cn-east-3.myhuaweicloud.com (zihao-openmmlab.obs.cn-east-3.myhuaweicloud.com)|121.36.235.132|:443... 已连接。\n",
      "已发出 HTTP 请求，正在等待回应... 200 OK\n",
      "长度：10050868 (9.6M) [application/x-font-ttf]\n",
      "正在保存至: “SimHei.ttf.1”\n",
      "\n",
      "SimHei.ttf.1        100%[===================>]   9.58M  40.3MB/s  用时 0.2s      \n",
      "\n",
      "2022-11-07 10:27:00 (40.3 MB/s) - 已保存 “SimHei.ttf.1” [10050868/10050868])\n",
      "\n"
     ]
    }
   ],
   "source": [
    "# 下载中文字体\n",
    "!wget https://zihao-openmmlab.obs.cn-east-3.myhuaweicloud.com/20220716-mmclassification/dataset/SimHei.ttf"
   ]
  },
  {
   "cell_type": "markdown",
   "id": "db5e6095",
   "metadata": {},
   "source": [
    "### 创建文件\n",
    "\n",
    "- 结果文件：`output`\n",
    "- 存放预训练得到的权重和文件：`checkpoints`\n",
    "- 存放生成的图表：`graph`"
   ]
  },
  {
   "cell_type": "code",
   "execution_count": 2,
   "id": "e7a89071",
   "metadata": {},
   "outputs": [
    {
     "ename": "FileExistsError",
     "evalue": "[Errno 17] File exists: '../Demo_zihao'",
     "output_type": "error",
     "traceback": [
      "\u001b[0;31m---------------------------------------------------------------------------\u001b[0m",
      "\u001b[0;31mFileExistsError\u001b[0m                           Traceback (most recent call last)",
      "Cell \u001b[0;32mIn [2], line 2\u001b[0m\n\u001b[1;32m      1\u001b[0m \u001b[38;5;28;01mimport\u001b[39;00m \u001b[38;5;21;01mos\u001b[39;00m \n\u001b[0;32m----> 2\u001b[0m os\u001b[38;5;241m.\u001b[39mmkdir(\u001b[38;5;124m'\u001b[39m\u001b[38;5;124m../Demo_zihao\u001b[39m\u001b[38;5;124m'\u001b[39m)\n\u001b[1;32m      3\u001b[0m os\u001b[38;5;241m.\u001b[39mmkdir(\u001b[38;5;124m'\u001b[39m\u001b[38;5;124m../Demo_zihao/output\u001b[39m\u001b[38;5;124m'\u001b[39m)\n\u001b[1;32m      4\u001b[0m os\u001b[38;5;241m.\u001b[39mmkdir(\u001b[38;5;124m'\u001b[39m\u001b[38;5;124m../Demo_zihao/checkpoints\u001b[39m\u001b[38;5;124m'\u001b[39m)\n",
      "\u001b[0;31mFileExistsError\u001b[0m: [Errno 17] File exists: '../Demo_zihao'"
     ]
    }
   ],
   "source": [
    "import os \n",
    "os.mkdir('../Demo_zihao')\n",
    "os.mkdir('../Demo_zihao/output')\n",
    "os.mkdir('../Demo_zihao/checkpoints')\n",
    "os.mkdir('../Demo_zihao/graph')"
   ]
  },
  {
   "cell_type": "markdown",
   "id": "d8d6fc9c",
   "metadata": {},
   "source": [
    "#### 设置matplotlib中文字体"
   ]
  },
  {
   "cell_type": "code",
   "execution_count": 1,
   "id": "cc3b6f5f",
   "metadata": {},
   "outputs": [],
   "source": [
    "!rm -rf /home/featurize/.cache/matplotlib\n",
    "import matplotlib\n",
    "import matplotlib.pyplot as plt\n",
    "\n",
    "# matplotlib.rc(\"font\",family='SimHei') # 中文字体\n",
    "# plt.rcParams['axes.unicode_minus']=False  # 用来正常显示负号"
   ]
  },
  {
   "cell_type": "code",
   "execution_count": 79,
   "id": "0bc3b4f4",
   "metadata": {},
   "outputs": [],
   "source": [
    "import time\n",
    "import os\n",
    "\n",
    "import numpy as np\n",
    "from tqdm import tqdm\n",
    "\n",
    "import torch\n",
    "import torchvision\n",
    "import torch.nn as nn\n",
    "import torch.nn.functional as F\n",
    "\n",
    "import matplotlib.pyplot as plt\n",
    "%matplotlib inline\n",
    "\n",
    "# 忽略烦人的红色提示\n",
    "import warnings\n",
    "warnings.filterwarnings(\"ignore\")"
   ]
  },
  {
   "cell_type": "code",
   "execution_count": 15,
   "id": "73df2e2a",
   "metadata": {},
   "outputs": [
    {
     "name": "stdout",
     "output_type": "stream",
     "text": [
      "001.Black_footed_Albatross     101.White_Pelican\r\n",
      "002.Laysan_Albatross\t       102.Western_Wood_Pewee\r\n",
      "003.Sooty_Albatross\t       103.Sayornis\r\n",
      "004.Groove_billed_Ani\t       104.American_Pipit\r\n",
      "005.Crested_Auklet\t       105.Whip_poor_Will\r\n",
      "006.Least_Auklet\t       106.Horned_Puffin\r\n",
      "007.Parakeet_Auklet\t       107.Common_Raven\r\n",
      "008.Rhinoceros_Auklet\t       108.White_necked_Raven\r\n",
      "009.Brewer_Blackbird\t       109.American_Redstart\r\n",
      "010.Red_winged_Blackbird       110.Geococcyx\r\n",
      "011.Rusty_Blackbird\t       111.Loggerhead_Shrike\r\n",
      "012.Yellow_headed_Blackbird    112.Great_Grey_Shrike\r\n",
      "013.Bobolink\t\t       113.Baird_Sparrow\r\n",
      "014.Indigo_Bunting\t       114.Black_throated_Sparrow\r\n",
      "015.Lazuli_Bunting\t       115.Brewer_Sparrow\r\n",
      "016.Painted_Bunting\t       116.Chipping_Sparrow\r\n",
      "017.Cardinal\t\t       117.Clay_colored_Sparrow\r\n",
      "018.Spotted_Catbird\t       118.House_Sparrow\r\n",
      "019.Gray_Catbird\t       119.Field_Sparrow\r\n",
      "020.Yellow_breasted_Chat       120.Fox_Sparrow\r\n",
      "021.Eastern_Towhee\t       121.Grasshopper_Sparrow\r\n",
      "022.Chuck_will_Widow\t       122.Harris_Sparrow\r\n",
      "023.Brandt_Cormorant\t       123.Henslow_Sparrow\r\n",
      "024.Red_faced_Cormorant        124.Le_Conte_Sparrow\r\n",
      "025.Pelagic_Cormorant\t       125.Lincoln_Sparrow\r\n",
      "026.Bronzed_Cowbird\t       126.Nelson_Sharp_tailed_Sparrow\r\n",
      "027.Shiny_Cowbird\t       127.Savannah_Sparrow\r\n",
      "028.Brown_Creeper\t       128.Seaside_Sparrow\r\n",
      "029.American_Crow\t       129.Song_Sparrow\r\n",
      "030.Fish_Crow\t\t       130.Tree_Sparrow\r\n",
      "031.Black_billed_Cuckoo        131.Vesper_Sparrow\r\n",
      "032.Mangrove_Cuckoo\t       132.White_crowned_Sparrow\r\n",
      "033.Yellow_billed_Cuckoo       133.White_throated_Sparrow\r\n",
      "034.Gray_crowned_Rosy_Finch    134.Cape_Glossy_Starling\r\n",
      "035.Purple_Finch\t       135.Bank_Swallow\r\n",
      "036.Northern_Flicker\t       136.Barn_Swallow\r\n",
      "037.Acadian_Flycatcher\t       137.Cliff_Swallow\r\n",
      "038.Great_Crested_Flycatcher   138.Tree_Swallow\r\n",
      "039.Least_Flycatcher\t       139.Scarlet_Tanager\r\n",
      "040.Olive_sided_Flycatcher     140.Summer_Tanager\r\n",
      "041.Scissor_tailed_Flycatcher  141.Artic_Tern\r\n",
      "042.Vermilion_Flycatcher       142.Black_Tern\r\n",
      "043.Yellow_bellied_Flycatcher  143.Caspian_Tern\r\n",
      "044.Frigatebird\t\t       144.Common_Tern\r\n",
      "045.Northern_Fulmar\t       145.Elegant_Tern\r\n",
      "046.Gadwall\t\t       146.Forsters_Tern\r\n",
      "047.American_Goldfinch\t       147.Least_Tern\r\n",
      "048.European_Goldfinch\t       148.Green_tailed_Towhee\r\n",
      "049.Boat_tailed_Grackle        149.Brown_Thrasher\r\n",
      "050.Eared_Grebe\t\t       150.Sage_Thrasher\r\n",
      "051.Horned_Grebe\t       151.Black_capped_Vireo\r\n",
      "052.Pied_billed_Grebe\t       152.Blue_headed_Vireo\r\n",
      "053.Western_Grebe\t       153.Philadelphia_Vireo\r\n",
      "054.Blue_Grosbeak\t       154.Red_eyed_Vireo\r\n",
      "055.Evening_Grosbeak\t       155.Warbling_Vireo\r\n",
      "056.Pine_Grosbeak\t       156.White_eyed_Vireo\r\n",
      "057.Rose_breasted_Grosbeak     157.Yellow_throated_Vireo\r\n",
      "058.Pigeon_Guillemot\t       158.Bay_breasted_Warbler\r\n",
      "059.California_Gull\t       159.Black_and_white_Warbler\r\n",
      "060.Glaucous_winged_Gull       160.Black_throated_Blue_Warbler\r\n",
      "061.Heermann_Gull\t       161.Blue_winged_Warbler\r\n",
      "062.Herring_Gull\t       162.Canada_Warbler\r\n",
      "063.Ivory_Gull\t\t       163.Cape_May_Warbler\r\n",
      "064.Ring_billed_Gull\t       164.Cerulean_Warbler\r\n",
      "065.Slaty_backed_Gull\t       165.Chestnut_sided_Warbler\r\n",
      "066.Western_Gull\t       166.Golden_winged_Warbler\r\n",
      "067.Anna_Hummingbird\t       167.Hooded_Warbler\r\n",
      "068.Ruby_throated_Hummingbird  168.Kentucky_Warbler\r\n",
      "069.Rufous_Hummingbird\t       169.Magnolia_Warbler\r\n",
      "070.Green_Violetear\t       170.Mourning_Warbler\r\n",
      "071.Long_tailed_Jaeger\t       171.Myrtle_Warbler\r\n",
      "072.Pomarine_Jaeger\t       172.Nashville_Warbler\r\n",
      "073.Blue_Jay\t\t       173.Orange_crowned_Warbler\r\n",
      "074.Florida_Jay\t\t       174.Palm_Warbler\r\n",
      "075.Green_Jay\t\t       175.Pine_Warbler\r\n",
      "076.Dark_eyed_Junco\t       176.Prairie_Warbler\r\n",
      "077.Tropical_Kingbird\t       177.Prothonotary_Warbler\r\n",
      "078.Gray_Kingbird\t       178.Swainson_Warbler\r\n",
      "079.Belted_Kingfisher\t       179.Tennessee_Warbler\r\n",
      "080.Green_Kingfisher\t       180.Wilson_Warbler\r\n",
      "081.Pied_Kingfisher\t       181.Worm_eating_Warbler\r\n",
      "082.Ringed_Kingfisher\t       182.Yellow_Warbler\r\n",
      "083.White_breasted_Kingfisher  183.Northern_Waterthrush\r\n",
      "084.Red_legged_Kittiwake       184.Louisiana_Waterthrush\r\n",
      "085.Horned_Lark\t\t       185.Bohemian_Waxwing\r\n",
      "086.Pacific_Loon\t       186.Cedar_Waxwing\r\n",
      "087.Mallard\t\t       187.American_Three_toed_Woodpecker\r\n",
      "088.Western_Meadowlark\t       188.Pileated_Woodpecker\r\n",
      "089.Hooded_Merganser\t       189.Red_bellied_Woodpecker\r\n",
      "090.Red_breasted_Merganser     190.Red_cockaded_Woodpecker\r\n",
      "091.Mockingbird\t\t       191.Red_headed_Woodpecker\r\n",
      "092.Nighthawk\t\t       192.Downy_Woodpecker\r\n",
      "093.Clark_Nutcracker\t       193.Bewick_Wren\r\n",
      "094.White_breasted_Nuthatch    194.Cactus_Wren\r\n",
      "095.Baltimore_Oriole\t       195.Carolina_Wren\r\n",
      "096.Hooded_Oriole\t       196.House_Wren\r\n",
      "097.Orchard_Oriole\t       197.Marsh_Wren\r\n",
      "098.Scott_Oriole\t       198.Rock_Wren\r\n",
      "099.Ovenbird\t\t       199.Winter_Wren\r\n",
      "100.Brown_Pelican\t       200.Common_Yellowthroat\r\n"
     ]
    }
   ],
   "source": [
    "!ls /home/Datasets/FGVC/CUB/images"
   ]
  },
  {
   "cell_type": "markdown",
   "id": "4d47e107",
   "metadata": {},
   "source": [
    "#### 图像预处理\n"
   ]
  },
  {
   "cell_type": "code",
   "execution_count": 21,
   "id": "034ebf47",
   "metadata": {},
   "outputs": [],
   "source": [
    "from torchvision import transforms,datasets\n",
    "\n",
    "# 训练集图像预处理：缩放裁剪、图像增强、转 Tensor、归一化\n",
    "train_transform = transforms.Compose([transforms.RandomResizedCrop(224),\n",
    "                                      transforms.RandomHorizontalFlip(),\n",
    "                                      transforms.ToTensor(),\n",
    "                                      transforms.Normalize([0.485, 0.456, 0.406], [0.229, 0.224, 0.225])\n",
    "                                     ])\n",
    "\n",
    "# 测试集图像预处理-RCTN：缩放、裁剪、转 Tensor、归一化\n",
    "test_transform = transforms.Compose([transforms.Resize(256),\n",
    "                                     transforms.CenterCrop(224),\n",
    "                                     transforms.ToTensor(),\n",
    "                                     transforms.Normalize(\n",
    "                                         mean=[0.485, 0.456, 0.406], \n",
    "                                         std=[0.229, 0.224, 0.225])\n",
    "                                    ])"
   ]
  },
  {
   "cell_type": "markdown",
   "id": "243cda41",
   "metadata": {},
   "source": [
    "#### 载入图像分类数据集"
   ]
  },
  {
   "cell_type": "code",
   "execution_count": 94,
   "id": "62d44ac5",
   "metadata": {},
   "outputs": [],
   "source": [
    "train_path = '/home/Datasets/FGVC/CUB/train'\n",
    "val_path = '/home/Datasets/FGVC/CUB/test'"
   ]
  },
  {
   "cell_type": "markdown",
   "id": "4462ef4e",
   "metadata": {},
   "source": [
    "#### 图像分类(按类别标签分)"
   ]
  },
  {
   "cell_type": "code",
   "execution_count": 96,
   "id": "91a0cf11",
   "metadata": {},
   "outputs": [],
   "source": [
    "imgs_list = os.listdir(train_path)\n",
    "# imgs_list ['cat.3238.jpg', 'cat.1092.jpg', 'dog.414.jpg', 'dog.7643.jpg', \n",
    "#            'dog.1128.jpg', 'dog.3042.jpg', 'dog.3167.jpg', \n",
    "#            'cat.9994.jpg', 'dog.10287.jpg', 'dog.8280.jpg', 'dog.1179.jpg', \n",
    "#           'cat.1166.jpg', 'dog.2578.jpg', 'cat.256.jpg', 'dog.9077.jpg', \n",
    "#           'cat.11565.jpg', 'dog.4665.jpg',]\n",
    "                    \n",
    "# for i in imgs_list:\n",
    "#     # 创建猫狗文件夹\n",
    "#     #os.mkdir(os.path.join(train_path,'dog'))\n",
    "#     #os.mkdir(os.path.join(train_path,'cat'))\n",
    "#     if 'dog' in i:\n",
    "#         tmp_path = os.path.join(train_path,i)\n",
    "#         dist_path = os.path.join(train_path,'dog')\n",
    "#         os.rename(tmp_path,os.path.join(dist_path,i))\n",
    "#     elif 'cat'in i:\n",
    "#         tmp_path = os.path.join(train_path,i)\n",
    "#         dist_path = os.path.join(train_path,'cat')\n",
    "#         os.rename(tmp_path,os.path.join(dist_path,i))\n",
    "#     else:\n",
    "#         print(i)"
   ]
  },
  {
   "cell_type": "markdown",
   "id": "214c89e0",
   "metadata": {},
   "source": [
    "#### 载入图像\n"
   ]
  },
  {
   "cell_type": "code",
   "execution_count": 99,
   "id": "f3151431",
   "metadata": {},
   "outputs": [
    {
     "name": "stdout",
     "output_type": "stream",
     "text": [
      "测试集数量 8284\n",
      "类别数量 200\n",
      "各个类别的名称 ['001.Black_footed_Albatross', '002.Laysan_Albatross', '003.Sooty_Albatross', '004.Groove_billed_Ani', '005.Crested_Auklet', '006.Least_Auklet', '007.Parakeet_Auklet', '008.Rhinoceros_Auklet', '009.Brewer_Blackbird', '010.Red_winged_Blackbird', '011.Rusty_Blackbird', '012.Yellow_headed_Blackbird', '013.Bobolink', '014.Indigo_Bunting', '015.Lazuli_Bunting', '016.Painted_Bunting', '017.Cardinal', '018.Spotted_Catbird', '019.Gray_Catbird', '020.Yellow_breasted_Chat', '021.Eastern_Towhee', '022.Chuck_will_Widow', '023.Brandt_Cormorant', '024.Red_faced_Cormorant', '025.Pelagic_Cormorant', '026.Bronzed_Cowbird', '027.Shiny_Cowbird', '028.Brown_Creeper', '029.American_Crow', '030.Fish_Crow', '031.Black_billed_Cuckoo', '032.Mangrove_Cuckoo', '033.Yellow_billed_Cuckoo', '034.Gray_crowned_Rosy_Finch', '035.Purple_Finch', '036.Northern_Flicker', '037.Acadian_Flycatcher', '038.Great_Crested_Flycatcher', '039.Least_Flycatcher', '040.Olive_sided_Flycatcher', '041.Scissor_tailed_Flycatcher', '042.Vermilion_Flycatcher', '043.Yellow_bellied_Flycatcher', '044.Frigatebird', '045.Northern_Fulmar', '046.Gadwall', '047.American_Goldfinch', '048.European_Goldfinch', '049.Boat_tailed_Grackle', '050.Eared_Grebe', '051.Horned_Grebe', '052.Pied_billed_Grebe', '053.Western_Grebe', '054.Blue_Grosbeak', '055.Evening_Grosbeak', '056.Pine_Grosbeak', '057.Rose_breasted_Grosbeak', '058.Pigeon_Guillemot', '059.California_Gull', '060.Glaucous_winged_Gull', '061.Heermann_Gull', '062.Herring_Gull', '063.Ivory_Gull', '064.Ring_billed_Gull', '065.Slaty_backed_Gull', '066.Western_Gull', '067.Anna_Hummingbird', '068.Ruby_throated_Hummingbird', '069.Rufous_Hummingbird', '070.Green_Violetear', '071.Long_tailed_Jaeger', '072.Pomarine_Jaeger', '073.Blue_Jay', '074.Florida_Jay', '075.Green_Jay', '076.Dark_eyed_Junco', '077.Tropical_Kingbird', '078.Gray_Kingbird', '079.Belted_Kingfisher', '080.Green_Kingfisher', '081.Pied_Kingfisher', '082.Ringed_Kingfisher', '083.White_breasted_Kingfisher', '084.Red_legged_Kittiwake', '085.Horned_Lark', '086.Pacific_Loon', '087.Mallard', '088.Western_Meadowlark', '089.Hooded_Merganser', '090.Red_breasted_Merganser', '091.Mockingbird', '092.Nighthawk', '093.Clark_Nutcracker', '094.White_breasted_Nuthatch', '095.Baltimore_Oriole', '096.Hooded_Oriole', '097.Orchard_Oriole', '098.Scott_Oriole', '099.Ovenbird', '100.Brown_Pelican', '101.White_Pelican', '102.Western_Wood_Pewee', '103.Sayornis', '104.American_Pipit', '105.Whip_poor_Will', '106.Horned_Puffin', '107.Common_Raven', '108.White_necked_Raven', '109.American_Redstart', '110.Geococcyx', '111.Loggerhead_Shrike', '112.Great_Grey_Shrike', '113.Baird_Sparrow', '114.Black_throated_Sparrow', '115.Brewer_Sparrow', '116.Chipping_Sparrow', '117.Clay_colored_Sparrow', '118.House_Sparrow', '119.Field_Sparrow', '120.Fox_Sparrow', '121.Grasshopper_Sparrow', '122.Harris_Sparrow', '123.Henslow_Sparrow', '124.Le_Conte_Sparrow', '125.Lincoln_Sparrow', '126.Nelson_Sharp_tailed_Sparrow', '127.Savannah_Sparrow', '128.Seaside_Sparrow', '129.Song_Sparrow', '130.Tree_Sparrow', '131.Vesper_Sparrow', '132.White_crowned_Sparrow', '133.White_throated_Sparrow', '134.Cape_Glossy_Starling', '135.Bank_Swallow', '136.Barn_Swallow', '137.Cliff_Swallow', '138.Tree_Swallow', '139.Scarlet_Tanager', '140.Summer_Tanager', '141.Artic_Tern', '142.Black_Tern', '143.Caspian_Tern', '144.Common_Tern', '145.Elegant_Tern', '146.Forsters_Tern', '147.Least_Tern', '148.Green_tailed_Towhee', '149.Brown_Thrasher', '150.Sage_Thrasher', '151.Black_capped_Vireo', '152.Blue_headed_Vireo', '153.Philadelphia_Vireo', '154.Red_eyed_Vireo', '155.Warbling_Vireo', '156.White_eyed_Vireo', '157.Yellow_throated_Vireo', '158.Bay_breasted_Warbler', '159.Black_and_white_Warbler', '160.Black_throated_Blue_Warbler', '161.Blue_winged_Warbler', '162.Canada_Warbler', '163.Cape_May_Warbler', '164.Cerulean_Warbler', '165.Chestnut_sided_Warbler', '166.Golden_winged_Warbler', '167.Hooded_Warbler', '168.Kentucky_Warbler', '169.Magnolia_Warbler', '170.Mourning_Warbler', '171.Myrtle_Warbler', '172.Nashville_Warbler', '173.Orange_crowned_Warbler', '174.Palm_Warbler', '175.Pine_Warbler', '176.Prairie_Warbler', '177.Prothonotary_Warbler', '178.Swainson_Warbler', '179.Tennessee_Warbler', '180.Wilson_Warbler', '181.Worm_eating_Warbler', '182.Yellow_Warbler', '183.Northern_Waterthrush', '184.Louisiana_Waterthrush', '185.Bohemian_Waxwing', '186.Cedar_Waxwing', '187.American_Three_toed_Woodpecker', '188.Pileated_Woodpecker', '189.Red_bellied_Woodpecker', '190.Red_cockaded_Woodpecker', '191.Red_headed_Woodpecker', '192.Downy_Woodpecker', '193.Bewick_Wren', '194.Cactus_Wren', '195.Carolina_Wren', '196.House_Wren', '197.Marsh_Wren', '198.Rock_Wren', '199.Winter_Wren', '200.Common_Yellowthroat']\n",
      "验证集数量 3504\n",
      "类别数量 200\n",
      "各个类别的名称 ['001.Black_footed_Albatross', '002.Laysan_Albatross', '003.Sooty_Albatross', '004.Groove_billed_Ani', '005.Crested_Auklet', '006.Least_Auklet', '007.Parakeet_Auklet', '008.Rhinoceros_Auklet', '009.Brewer_Blackbird', '010.Red_winged_Blackbird', '011.Rusty_Blackbird', '012.Yellow_headed_Blackbird', '013.Bobolink', '014.Indigo_Bunting', '015.Lazuli_Bunting', '016.Painted_Bunting', '017.Cardinal', '018.Spotted_Catbird', '019.Gray_Catbird', '020.Yellow_breasted_Chat', '021.Eastern_Towhee', '022.Chuck_will_Widow', '023.Brandt_Cormorant', '024.Red_faced_Cormorant', '025.Pelagic_Cormorant', '026.Bronzed_Cowbird', '027.Shiny_Cowbird', '028.Brown_Creeper', '029.American_Crow', '030.Fish_Crow', '031.Black_billed_Cuckoo', '032.Mangrove_Cuckoo', '033.Yellow_billed_Cuckoo', '034.Gray_crowned_Rosy_Finch', '035.Purple_Finch', '036.Northern_Flicker', '037.Acadian_Flycatcher', '038.Great_Crested_Flycatcher', '039.Least_Flycatcher', '040.Olive_sided_Flycatcher', '041.Scissor_tailed_Flycatcher', '042.Vermilion_Flycatcher', '043.Yellow_bellied_Flycatcher', '044.Frigatebird', '045.Northern_Fulmar', '046.Gadwall', '047.American_Goldfinch', '048.European_Goldfinch', '049.Boat_tailed_Grackle', '050.Eared_Grebe', '051.Horned_Grebe', '052.Pied_billed_Grebe', '053.Western_Grebe', '054.Blue_Grosbeak', '055.Evening_Grosbeak', '056.Pine_Grosbeak', '057.Rose_breasted_Grosbeak', '058.Pigeon_Guillemot', '059.California_Gull', '060.Glaucous_winged_Gull', '061.Heermann_Gull', '062.Herring_Gull', '063.Ivory_Gull', '064.Ring_billed_Gull', '065.Slaty_backed_Gull', '066.Western_Gull', '067.Anna_Hummingbird', '068.Ruby_throated_Hummingbird', '069.Rufous_Hummingbird', '070.Green_Violetear', '071.Long_tailed_Jaeger', '072.Pomarine_Jaeger', '073.Blue_Jay', '074.Florida_Jay', '075.Green_Jay', '076.Dark_eyed_Junco', '077.Tropical_Kingbird', '078.Gray_Kingbird', '079.Belted_Kingfisher', '080.Green_Kingfisher', '081.Pied_Kingfisher', '082.Ringed_Kingfisher', '083.White_breasted_Kingfisher', '084.Red_legged_Kittiwake', '085.Horned_Lark', '086.Pacific_Loon', '087.Mallard', '088.Western_Meadowlark', '089.Hooded_Merganser', '090.Red_breasted_Merganser', '091.Mockingbird', '092.Nighthawk', '093.Clark_Nutcracker', '094.White_breasted_Nuthatch', '095.Baltimore_Oriole', '096.Hooded_Oriole', '097.Orchard_Oriole', '098.Scott_Oriole', '099.Ovenbird', '100.Brown_Pelican', '101.White_Pelican', '102.Western_Wood_Pewee', '103.Sayornis', '104.American_Pipit', '105.Whip_poor_Will', '106.Horned_Puffin', '107.Common_Raven', '108.White_necked_Raven', '109.American_Redstart', '110.Geococcyx', '111.Loggerhead_Shrike', '112.Great_Grey_Shrike', '113.Baird_Sparrow', '114.Black_throated_Sparrow', '115.Brewer_Sparrow', '116.Chipping_Sparrow', '117.Clay_colored_Sparrow', '118.House_Sparrow', '119.Field_Sparrow', '120.Fox_Sparrow', '121.Grasshopper_Sparrow', '122.Harris_Sparrow', '123.Henslow_Sparrow', '124.Le_Conte_Sparrow', '125.Lincoln_Sparrow', '126.Nelson_Sharp_tailed_Sparrow', '127.Savannah_Sparrow', '128.Seaside_Sparrow', '129.Song_Sparrow', '130.Tree_Sparrow', '131.Vesper_Sparrow', '132.White_crowned_Sparrow', '133.White_throated_Sparrow', '134.Cape_Glossy_Starling', '135.Bank_Swallow', '136.Barn_Swallow', '137.Cliff_Swallow', '138.Tree_Swallow', '139.Scarlet_Tanager', '140.Summer_Tanager', '141.Artic_Tern', '142.Black_Tern', '143.Caspian_Tern', '144.Common_Tern', '145.Elegant_Tern', '146.Forsters_Tern', '147.Least_Tern', '148.Green_tailed_Towhee', '149.Brown_Thrasher', '150.Sage_Thrasher', '151.Black_capped_Vireo', '152.Blue_headed_Vireo', '153.Philadelphia_Vireo', '154.Red_eyed_Vireo', '155.Warbling_Vireo', '156.White_eyed_Vireo', '157.Yellow_throated_Vireo', '158.Bay_breasted_Warbler', '159.Black_and_white_Warbler', '160.Black_throated_Blue_Warbler', '161.Blue_winged_Warbler', '162.Canada_Warbler', '163.Cape_May_Warbler', '164.Cerulean_Warbler', '165.Chestnut_sided_Warbler', '166.Golden_winged_Warbler', '167.Hooded_Warbler', '168.Kentucky_Warbler', '169.Magnolia_Warbler', '170.Mourning_Warbler', '171.Myrtle_Warbler', '172.Nashville_Warbler', '173.Orange_crowned_Warbler', '174.Palm_Warbler', '175.Pine_Warbler', '176.Prairie_Warbler', '177.Prothonotary_Warbler', '178.Swainson_Warbler', '179.Tennessee_Warbler', '180.Wilson_Warbler', '181.Worm_eating_Warbler', '182.Yellow_Warbler', '183.Northern_Waterthrush', '184.Louisiana_Waterthrush', '185.Bohemian_Waxwing', '186.Cedar_Waxwing', '187.American_Three_toed_Woodpecker', '188.Pileated_Woodpecker', '189.Red_bellied_Woodpecker', '190.Red_cockaded_Woodpecker', '191.Red_headed_Woodpecker', '192.Downy_Woodpecker', '193.Bewick_Wren', '194.Cactus_Wren', '195.Carolina_Wren', '196.House_Wren', '197.Marsh_Wren', '198.Rock_Wren', '199.Winter_Wren', '200.Common_Yellowthroat']\n"
     ]
    }
   ],
   "source": [
    "train_dataset = datasets.ImageFolder(train_path,train_transform)\n",
    "# 测试集合未区分dog/cat\n",
    "val_dataset = datasets.ImageFolder(val_path,train_transform)\n",
    "\n",
    "print('测试集数量',len(train_dataset))\n",
    "print('类别数量',len(train_dataset.classes))\n",
    "# 通过数据集的.classes来获取类别\n",
    "print('各个类别的名称',train_dataset.classes)\n",
    "\n",
    "print('验证集数量',len(val_dataset))\n",
    "print('类别数量',len(val_dataset.classes))\n",
    "print('各个类别的名称',val_dataset.classes)"
   ]
  },
  {
   "cell_type": "markdown",
   "id": "4f267359",
   "metadata": {},
   "source": [
    "#### 键值对一一对应"
   ]
  },
  {
   "cell_type": "code",
   "execution_count": 100,
   "id": "7a3c3b23",
   "metadata": {},
   "outputs": [
    {
     "data": {
      "text/plain": [
       "{'001.Black_footed_Albatross': 0,\n",
       " '002.Laysan_Albatross': 1,\n",
       " '003.Sooty_Albatross': 2,\n",
       " '004.Groove_billed_Ani': 3,\n",
       " '005.Crested_Auklet': 4,\n",
       " '006.Least_Auklet': 5,\n",
       " '007.Parakeet_Auklet': 6,\n",
       " '008.Rhinoceros_Auklet': 7,\n",
       " '009.Brewer_Blackbird': 8,\n",
       " '010.Red_winged_Blackbird': 9,\n",
       " '011.Rusty_Blackbird': 10,\n",
       " '012.Yellow_headed_Blackbird': 11,\n",
       " '013.Bobolink': 12,\n",
       " '014.Indigo_Bunting': 13,\n",
       " '015.Lazuli_Bunting': 14,\n",
       " '016.Painted_Bunting': 15,\n",
       " '017.Cardinal': 16,\n",
       " '018.Spotted_Catbird': 17,\n",
       " '019.Gray_Catbird': 18,\n",
       " '020.Yellow_breasted_Chat': 19,\n",
       " '021.Eastern_Towhee': 20,\n",
       " '022.Chuck_will_Widow': 21,\n",
       " '023.Brandt_Cormorant': 22,\n",
       " '024.Red_faced_Cormorant': 23,\n",
       " '025.Pelagic_Cormorant': 24,\n",
       " '026.Bronzed_Cowbird': 25,\n",
       " '027.Shiny_Cowbird': 26,\n",
       " '028.Brown_Creeper': 27,\n",
       " '029.American_Crow': 28,\n",
       " '030.Fish_Crow': 29,\n",
       " '031.Black_billed_Cuckoo': 30,\n",
       " '032.Mangrove_Cuckoo': 31,\n",
       " '033.Yellow_billed_Cuckoo': 32,\n",
       " '034.Gray_crowned_Rosy_Finch': 33,\n",
       " '035.Purple_Finch': 34,\n",
       " '036.Northern_Flicker': 35,\n",
       " '037.Acadian_Flycatcher': 36,\n",
       " '038.Great_Crested_Flycatcher': 37,\n",
       " '039.Least_Flycatcher': 38,\n",
       " '040.Olive_sided_Flycatcher': 39,\n",
       " '041.Scissor_tailed_Flycatcher': 40,\n",
       " '042.Vermilion_Flycatcher': 41,\n",
       " '043.Yellow_bellied_Flycatcher': 42,\n",
       " '044.Frigatebird': 43,\n",
       " '045.Northern_Fulmar': 44,\n",
       " '046.Gadwall': 45,\n",
       " '047.American_Goldfinch': 46,\n",
       " '048.European_Goldfinch': 47,\n",
       " '049.Boat_tailed_Grackle': 48,\n",
       " '050.Eared_Grebe': 49,\n",
       " '051.Horned_Grebe': 50,\n",
       " '052.Pied_billed_Grebe': 51,\n",
       " '053.Western_Grebe': 52,\n",
       " '054.Blue_Grosbeak': 53,\n",
       " '055.Evening_Grosbeak': 54,\n",
       " '056.Pine_Grosbeak': 55,\n",
       " '057.Rose_breasted_Grosbeak': 56,\n",
       " '058.Pigeon_Guillemot': 57,\n",
       " '059.California_Gull': 58,\n",
       " '060.Glaucous_winged_Gull': 59,\n",
       " '061.Heermann_Gull': 60,\n",
       " '062.Herring_Gull': 61,\n",
       " '063.Ivory_Gull': 62,\n",
       " '064.Ring_billed_Gull': 63,\n",
       " '065.Slaty_backed_Gull': 64,\n",
       " '066.Western_Gull': 65,\n",
       " '067.Anna_Hummingbird': 66,\n",
       " '068.Ruby_throated_Hummingbird': 67,\n",
       " '069.Rufous_Hummingbird': 68,\n",
       " '070.Green_Violetear': 69,\n",
       " '071.Long_tailed_Jaeger': 70,\n",
       " '072.Pomarine_Jaeger': 71,\n",
       " '073.Blue_Jay': 72,\n",
       " '074.Florida_Jay': 73,\n",
       " '075.Green_Jay': 74,\n",
       " '076.Dark_eyed_Junco': 75,\n",
       " '077.Tropical_Kingbird': 76,\n",
       " '078.Gray_Kingbird': 77,\n",
       " '079.Belted_Kingfisher': 78,\n",
       " '080.Green_Kingfisher': 79,\n",
       " '081.Pied_Kingfisher': 80,\n",
       " '082.Ringed_Kingfisher': 81,\n",
       " '083.White_breasted_Kingfisher': 82,\n",
       " '084.Red_legged_Kittiwake': 83,\n",
       " '085.Horned_Lark': 84,\n",
       " '086.Pacific_Loon': 85,\n",
       " '087.Mallard': 86,\n",
       " '088.Western_Meadowlark': 87,\n",
       " '089.Hooded_Merganser': 88,\n",
       " '090.Red_breasted_Merganser': 89,\n",
       " '091.Mockingbird': 90,\n",
       " '092.Nighthawk': 91,\n",
       " '093.Clark_Nutcracker': 92,\n",
       " '094.White_breasted_Nuthatch': 93,\n",
       " '095.Baltimore_Oriole': 94,\n",
       " '096.Hooded_Oriole': 95,\n",
       " '097.Orchard_Oriole': 96,\n",
       " '098.Scott_Oriole': 97,\n",
       " '099.Ovenbird': 98,\n",
       " '100.Brown_Pelican': 99,\n",
       " '101.White_Pelican': 100,\n",
       " '102.Western_Wood_Pewee': 101,\n",
       " '103.Sayornis': 102,\n",
       " '104.American_Pipit': 103,\n",
       " '105.Whip_poor_Will': 104,\n",
       " '106.Horned_Puffin': 105,\n",
       " '107.Common_Raven': 106,\n",
       " '108.White_necked_Raven': 107,\n",
       " '109.American_Redstart': 108,\n",
       " '110.Geococcyx': 109,\n",
       " '111.Loggerhead_Shrike': 110,\n",
       " '112.Great_Grey_Shrike': 111,\n",
       " '113.Baird_Sparrow': 112,\n",
       " '114.Black_throated_Sparrow': 113,\n",
       " '115.Brewer_Sparrow': 114,\n",
       " '116.Chipping_Sparrow': 115,\n",
       " '117.Clay_colored_Sparrow': 116,\n",
       " '118.House_Sparrow': 117,\n",
       " '119.Field_Sparrow': 118,\n",
       " '120.Fox_Sparrow': 119,\n",
       " '121.Grasshopper_Sparrow': 120,\n",
       " '122.Harris_Sparrow': 121,\n",
       " '123.Henslow_Sparrow': 122,\n",
       " '124.Le_Conte_Sparrow': 123,\n",
       " '125.Lincoln_Sparrow': 124,\n",
       " '126.Nelson_Sharp_tailed_Sparrow': 125,\n",
       " '127.Savannah_Sparrow': 126,\n",
       " '128.Seaside_Sparrow': 127,\n",
       " '129.Song_Sparrow': 128,\n",
       " '130.Tree_Sparrow': 129,\n",
       " '131.Vesper_Sparrow': 130,\n",
       " '132.White_crowned_Sparrow': 131,\n",
       " '133.White_throated_Sparrow': 132,\n",
       " '134.Cape_Glossy_Starling': 133,\n",
       " '135.Bank_Swallow': 134,\n",
       " '136.Barn_Swallow': 135,\n",
       " '137.Cliff_Swallow': 136,\n",
       " '138.Tree_Swallow': 137,\n",
       " '139.Scarlet_Tanager': 138,\n",
       " '140.Summer_Tanager': 139,\n",
       " '141.Artic_Tern': 140,\n",
       " '142.Black_Tern': 141,\n",
       " '143.Caspian_Tern': 142,\n",
       " '144.Common_Tern': 143,\n",
       " '145.Elegant_Tern': 144,\n",
       " '146.Forsters_Tern': 145,\n",
       " '147.Least_Tern': 146,\n",
       " '148.Green_tailed_Towhee': 147,\n",
       " '149.Brown_Thrasher': 148,\n",
       " '150.Sage_Thrasher': 149,\n",
       " '151.Black_capped_Vireo': 150,\n",
       " '152.Blue_headed_Vireo': 151,\n",
       " '153.Philadelphia_Vireo': 152,\n",
       " '154.Red_eyed_Vireo': 153,\n",
       " '155.Warbling_Vireo': 154,\n",
       " '156.White_eyed_Vireo': 155,\n",
       " '157.Yellow_throated_Vireo': 156,\n",
       " '158.Bay_breasted_Warbler': 157,\n",
       " '159.Black_and_white_Warbler': 158,\n",
       " '160.Black_throated_Blue_Warbler': 159,\n",
       " '161.Blue_winged_Warbler': 160,\n",
       " '162.Canada_Warbler': 161,\n",
       " '163.Cape_May_Warbler': 162,\n",
       " '164.Cerulean_Warbler': 163,\n",
       " '165.Chestnut_sided_Warbler': 164,\n",
       " '166.Golden_winged_Warbler': 165,\n",
       " '167.Hooded_Warbler': 166,\n",
       " '168.Kentucky_Warbler': 167,\n",
       " '169.Magnolia_Warbler': 168,\n",
       " '170.Mourning_Warbler': 169,\n",
       " '171.Myrtle_Warbler': 170,\n",
       " '172.Nashville_Warbler': 171,\n",
       " '173.Orange_crowned_Warbler': 172,\n",
       " '174.Palm_Warbler': 173,\n",
       " '175.Pine_Warbler': 174,\n",
       " '176.Prairie_Warbler': 175,\n",
       " '177.Prothonotary_Warbler': 176,\n",
       " '178.Swainson_Warbler': 177,\n",
       " '179.Tennessee_Warbler': 178,\n",
       " '180.Wilson_Warbler': 179,\n",
       " '181.Worm_eating_Warbler': 180,\n",
       " '182.Yellow_Warbler': 181,\n",
       " '183.Northern_Waterthrush': 182,\n",
       " '184.Louisiana_Waterthrush': 183,\n",
       " '185.Bohemian_Waxwing': 184,\n",
       " '186.Cedar_Waxwing': 185,\n",
       " '187.American_Three_toed_Woodpecker': 186,\n",
       " '188.Pileated_Woodpecker': 187,\n",
       " '189.Red_bellied_Woodpecker': 188,\n",
       " '190.Red_cockaded_Woodpecker': 189,\n",
       " '191.Red_headed_Woodpecker': 190,\n",
       " '192.Downy_Woodpecker': 191,\n",
       " '193.Bewick_Wren': 192,\n",
       " '194.Cactus_Wren': 193,\n",
       " '195.Carolina_Wren': 194,\n",
       " '196.House_Wren': 195,\n",
       " '197.Marsh_Wren': 196,\n",
       " '198.Rock_Wren': 197,\n",
       " '199.Winter_Wren': 198,\n",
       " '200.Common_Yellowthroat': 199}"
      ]
     },
     "execution_count": 100,
     "metadata": {},
     "output_type": "execute_result"
    }
   ],
   "source": [
    "# 映射关系： 类别-->索引号\n",
    "train_dataset.class_to_idx"
   ]
  },
  {
   "cell_type": "code",
   "execution_count": 101,
   "id": "ff6147ab",
   "metadata": {},
   "outputs": [
    {
     "data": {
      "text/plain": [
       "{0: '001.Black_footed_Albatross',\n",
       " 1: '002.Laysan_Albatross',\n",
       " 2: '003.Sooty_Albatross',\n",
       " 3: '004.Groove_billed_Ani',\n",
       " 4: '005.Crested_Auklet',\n",
       " 5: '006.Least_Auklet',\n",
       " 6: '007.Parakeet_Auklet',\n",
       " 7: '008.Rhinoceros_Auklet',\n",
       " 8: '009.Brewer_Blackbird',\n",
       " 9: '010.Red_winged_Blackbird',\n",
       " 10: '011.Rusty_Blackbird',\n",
       " 11: '012.Yellow_headed_Blackbird',\n",
       " 12: '013.Bobolink',\n",
       " 13: '014.Indigo_Bunting',\n",
       " 14: '015.Lazuli_Bunting',\n",
       " 15: '016.Painted_Bunting',\n",
       " 16: '017.Cardinal',\n",
       " 17: '018.Spotted_Catbird',\n",
       " 18: '019.Gray_Catbird',\n",
       " 19: '020.Yellow_breasted_Chat',\n",
       " 20: '021.Eastern_Towhee',\n",
       " 21: '022.Chuck_will_Widow',\n",
       " 22: '023.Brandt_Cormorant',\n",
       " 23: '024.Red_faced_Cormorant',\n",
       " 24: '025.Pelagic_Cormorant',\n",
       " 25: '026.Bronzed_Cowbird',\n",
       " 26: '027.Shiny_Cowbird',\n",
       " 27: '028.Brown_Creeper',\n",
       " 28: '029.American_Crow',\n",
       " 29: '030.Fish_Crow',\n",
       " 30: '031.Black_billed_Cuckoo',\n",
       " 31: '032.Mangrove_Cuckoo',\n",
       " 32: '033.Yellow_billed_Cuckoo',\n",
       " 33: '034.Gray_crowned_Rosy_Finch',\n",
       " 34: '035.Purple_Finch',\n",
       " 35: '036.Northern_Flicker',\n",
       " 36: '037.Acadian_Flycatcher',\n",
       " 37: '038.Great_Crested_Flycatcher',\n",
       " 38: '039.Least_Flycatcher',\n",
       " 39: '040.Olive_sided_Flycatcher',\n",
       " 40: '041.Scissor_tailed_Flycatcher',\n",
       " 41: '042.Vermilion_Flycatcher',\n",
       " 42: '043.Yellow_bellied_Flycatcher',\n",
       " 43: '044.Frigatebird',\n",
       " 44: '045.Northern_Fulmar',\n",
       " 45: '046.Gadwall',\n",
       " 46: '047.American_Goldfinch',\n",
       " 47: '048.European_Goldfinch',\n",
       " 48: '049.Boat_tailed_Grackle',\n",
       " 49: '050.Eared_Grebe',\n",
       " 50: '051.Horned_Grebe',\n",
       " 51: '052.Pied_billed_Grebe',\n",
       " 52: '053.Western_Grebe',\n",
       " 53: '054.Blue_Grosbeak',\n",
       " 54: '055.Evening_Grosbeak',\n",
       " 55: '056.Pine_Grosbeak',\n",
       " 56: '057.Rose_breasted_Grosbeak',\n",
       " 57: '058.Pigeon_Guillemot',\n",
       " 58: '059.California_Gull',\n",
       " 59: '060.Glaucous_winged_Gull',\n",
       " 60: '061.Heermann_Gull',\n",
       " 61: '062.Herring_Gull',\n",
       " 62: '063.Ivory_Gull',\n",
       " 63: '064.Ring_billed_Gull',\n",
       " 64: '065.Slaty_backed_Gull',\n",
       " 65: '066.Western_Gull',\n",
       " 66: '067.Anna_Hummingbird',\n",
       " 67: '068.Ruby_throated_Hummingbird',\n",
       " 68: '069.Rufous_Hummingbird',\n",
       " 69: '070.Green_Violetear',\n",
       " 70: '071.Long_tailed_Jaeger',\n",
       " 71: '072.Pomarine_Jaeger',\n",
       " 72: '073.Blue_Jay',\n",
       " 73: '074.Florida_Jay',\n",
       " 74: '075.Green_Jay',\n",
       " 75: '076.Dark_eyed_Junco',\n",
       " 76: '077.Tropical_Kingbird',\n",
       " 77: '078.Gray_Kingbird',\n",
       " 78: '079.Belted_Kingfisher',\n",
       " 79: '080.Green_Kingfisher',\n",
       " 80: '081.Pied_Kingfisher',\n",
       " 81: '082.Ringed_Kingfisher',\n",
       " 82: '083.White_breasted_Kingfisher',\n",
       " 83: '084.Red_legged_Kittiwake',\n",
       " 84: '085.Horned_Lark',\n",
       " 85: '086.Pacific_Loon',\n",
       " 86: '087.Mallard',\n",
       " 87: '088.Western_Meadowlark',\n",
       " 88: '089.Hooded_Merganser',\n",
       " 89: '090.Red_breasted_Merganser',\n",
       " 90: '091.Mockingbird',\n",
       " 91: '092.Nighthawk',\n",
       " 92: '093.Clark_Nutcracker',\n",
       " 93: '094.White_breasted_Nuthatch',\n",
       " 94: '095.Baltimore_Oriole',\n",
       " 95: '096.Hooded_Oriole',\n",
       " 96: '097.Orchard_Oriole',\n",
       " 97: '098.Scott_Oriole',\n",
       " 98: '099.Ovenbird',\n",
       " 99: '100.Brown_Pelican',\n",
       " 100: '101.White_Pelican',\n",
       " 101: '102.Western_Wood_Pewee',\n",
       " 102: '103.Sayornis',\n",
       " 103: '104.American_Pipit',\n",
       " 104: '105.Whip_poor_Will',\n",
       " 105: '106.Horned_Puffin',\n",
       " 106: '107.Common_Raven',\n",
       " 107: '108.White_necked_Raven',\n",
       " 108: '109.American_Redstart',\n",
       " 109: '110.Geococcyx',\n",
       " 110: '111.Loggerhead_Shrike',\n",
       " 111: '112.Great_Grey_Shrike',\n",
       " 112: '113.Baird_Sparrow',\n",
       " 113: '114.Black_throated_Sparrow',\n",
       " 114: '115.Brewer_Sparrow',\n",
       " 115: '116.Chipping_Sparrow',\n",
       " 116: '117.Clay_colored_Sparrow',\n",
       " 117: '118.House_Sparrow',\n",
       " 118: '119.Field_Sparrow',\n",
       " 119: '120.Fox_Sparrow',\n",
       " 120: '121.Grasshopper_Sparrow',\n",
       " 121: '122.Harris_Sparrow',\n",
       " 122: '123.Henslow_Sparrow',\n",
       " 123: '124.Le_Conte_Sparrow',\n",
       " 124: '125.Lincoln_Sparrow',\n",
       " 125: '126.Nelson_Sharp_tailed_Sparrow',\n",
       " 126: '127.Savannah_Sparrow',\n",
       " 127: '128.Seaside_Sparrow',\n",
       " 128: '129.Song_Sparrow',\n",
       " 129: '130.Tree_Sparrow',\n",
       " 130: '131.Vesper_Sparrow',\n",
       " 131: '132.White_crowned_Sparrow',\n",
       " 132: '133.White_throated_Sparrow',\n",
       " 133: '134.Cape_Glossy_Starling',\n",
       " 134: '135.Bank_Swallow',\n",
       " 135: '136.Barn_Swallow',\n",
       " 136: '137.Cliff_Swallow',\n",
       " 137: '138.Tree_Swallow',\n",
       " 138: '139.Scarlet_Tanager',\n",
       " 139: '140.Summer_Tanager',\n",
       " 140: '141.Artic_Tern',\n",
       " 141: '142.Black_Tern',\n",
       " 142: '143.Caspian_Tern',\n",
       " 143: '144.Common_Tern',\n",
       " 144: '145.Elegant_Tern',\n",
       " 145: '146.Forsters_Tern',\n",
       " 146: '147.Least_Tern',\n",
       " 147: '148.Green_tailed_Towhee',\n",
       " 148: '149.Brown_Thrasher',\n",
       " 149: '150.Sage_Thrasher',\n",
       " 150: '151.Black_capped_Vireo',\n",
       " 151: '152.Blue_headed_Vireo',\n",
       " 152: '153.Philadelphia_Vireo',\n",
       " 153: '154.Red_eyed_Vireo',\n",
       " 154: '155.Warbling_Vireo',\n",
       " 155: '156.White_eyed_Vireo',\n",
       " 156: '157.Yellow_throated_Vireo',\n",
       " 157: '158.Bay_breasted_Warbler',\n",
       " 158: '159.Black_and_white_Warbler',\n",
       " 159: '160.Black_throated_Blue_Warbler',\n",
       " 160: '161.Blue_winged_Warbler',\n",
       " 161: '162.Canada_Warbler',\n",
       " 162: '163.Cape_May_Warbler',\n",
       " 163: '164.Cerulean_Warbler',\n",
       " 164: '165.Chestnut_sided_Warbler',\n",
       " 165: '166.Golden_winged_Warbler',\n",
       " 166: '167.Hooded_Warbler',\n",
       " 167: '168.Kentucky_Warbler',\n",
       " 168: '169.Magnolia_Warbler',\n",
       " 169: '170.Mourning_Warbler',\n",
       " 170: '171.Myrtle_Warbler',\n",
       " 171: '172.Nashville_Warbler',\n",
       " 172: '173.Orange_crowned_Warbler',\n",
       " 173: '174.Palm_Warbler',\n",
       " 174: '175.Pine_Warbler',\n",
       " 175: '176.Prairie_Warbler',\n",
       " 176: '177.Prothonotary_Warbler',\n",
       " 177: '178.Swainson_Warbler',\n",
       " 178: '179.Tennessee_Warbler',\n",
       " 179: '180.Wilson_Warbler',\n",
       " 180: '181.Worm_eating_Warbler',\n",
       " 181: '182.Yellow_Warbler',\n",
       " 182: '183.Northern_Waterthrush',\n",
       " 183: '184.Louisiana_Waterthrush',\n",
       " 184: '185.Bohemian_Waxwing',\n",
       " 185: '186.Cedar_Waxwing',\n",
       " 186: '187.American_Three_toed_Woodpecker',\n",
       " 187: '188.Pileated_Woodpecker',\n",
       " 188: '189.Red_bellied_Woodpecker',\n",
       " 189: '190.Red_cockaded_Woodpecker',\n",
       " 190: '191.Red_headed_Woodpecker',\n",
       " 191: '192.Downy_Woodpecker',\n",
       " 192: '193.Bewick_Wren',\n",
       " 193: '194.Cactus_Wren',\n",
       " 194: '195.Carolina_Wren',\n",
       " 195: '196.House_Wren',\n",
       " 196: '197.Marsh_Wren',\n",
       " 197: '198.Rock_Wren',\n",
       " 198: '199.Winter_Wren',\n",
       " 199: '200.Common_Yellowthroat'}"
      ]
     },
     "execution_count": 101,
     "metadata": {},
     "output_type": "execute_result"
    }
   ],
   "source": [
    "# 映射关系： 索引号-->类别\n",
    "idx_to_labels ={y:x for x,y in train_dataset.class_to_idx.items()}\n",
    "idx_to_labels"
   ]
  },
  {
   "cell_type": "markdown",
   "id": "2b82defd",
   "metadata": {},
   "source": [
    "**将键值对保存到本地**"
   ]
  },
  {
   "cell_type": "code",
   "execution_count": 102,
   "id": "e8596521",
   "metadata": {},
   "outputs": [],
   "source": [
    "np.save('idx_to_labels.npy',idx_to_labels)\n",
    "np.save('labels_to_label.npy',train_dataset.class_to_idx)"
   ]
  },
  {
   "cell_type": "markdown",
   "id": "d66b8a6c",
   "metadata": {},
   "source": [
    "#### 定义数据加载器"
   ]
  },
  {
   "cell_type": "code",
   "execution_count": 122,
   "id": "6e1009cd",
   "metadata": {},
   "outputs": [],
   "source": [
    "from torch.utils.data import DataLoader\n",
    "Batch_size=200\n",
    "# 训练数据集加载器\n",
    "train_loader = DataLoader(train_dataset,\n",
    "                         batch_size=Batch_size,\n",
    "                         shuffle=True,\n",
    "                         num_workers=4)\n",
    "\n",
    "# 测试数据集加载器\n",
    "val_loader = DataLoader(val_dataset,\n",
    "                         batch_size=Batch_size,\n",
    "                         shuffle=True,\n",
    "                         num_workers=4)\n"
   ]
  },
  {
   "cell_type": "markdown",
   "id": "d800b5d1",
   "metadata": {},
   "source": [
    "#### 查看一个标注和图像"
   ]
  },
  {
   "cell_type": "code",
   "execution_count": 109,
   "id": "238412c4",
   "metadata": {},
   "outputs": [
    {
     "name": "stdout",
     "output_type": "stream",
     "text": [
      "torch.Size([200, 3, 224, 224])\n",
      "['batch_size,channel,width,height']\n"
     ]
    }
   ],
   "source": [
    "# 每次调用返回一个batch 的数据\n",
    "imgs,labels = next(iter(train_loader))\n",
    "print(imgs.shape)\n",
    "print(['batch_size,channel,width,height'])"
   ]
  },
  {
   "cell_type": "markdown",
   "id": "52ec6fbd",
   "metadata": {},
   "source": [
    "#### 可视化一个batch的图像和标注"
   ]
  },
  {
   "cell_type": "code",
   "execution_count": 106,
   "id": "bd28a45e",
   "metadata": {},
   "outputs": [
    {
     "data": {
      "text/plain": [
       "(3, 224, 224)"
      ]
     },
     "execution_count": 106,
     "metadata": {},
     "output_type": "execute_result"
    }
   ],
   "source": [
    "# 转为 numpy格式\n",
    "imgs = imgs.numpy()\n",
    "# 显示第一张图片的shape\n",
    "imgs[0].shape"
   ]
  },
  {
   "cell_type": "code",
   "execution_count": 107,
   "id": "a1bb43ff",
   "metadata": {},
   "outputs": [
    {
     "data": {
      "image/png": "[encoded data removed]",
      "text/plain": [
       "<Figure size 640x480 with 1 Axes>"
      ]
     },
     "metadata": {},
     "output_type": "display_data"
    }
   ],
   "source": [
    "# 绘制像素的直方图\n",
    "plt.hist(imgs[0].flatten(),bins=50)\n",
    "plt.show()"
   ]
  },
  {
   "cell_type": "markdown",
   "id": "0d1ab62a",
   "metadata": {},
   "source": [
    "### 选择迁移学习的方式"
   ]
  },
  {
   "cell_type": "markdown",
   "id": "7a4b97b5",
   "metadata": {},
   "source": [
    "#### method 1\n",
    "只微调训练模型最后一层(全连接分类层)"
   ]
  },
  {
   "cell_type": "code",
   "execution_count": 20,
   "id": "20daee96",
   "metadata": {},
   "outputs": [
    {
     "name": "stdout",
     "output_type": "stream",
     "text": [
      "conv1.weight:torch.Size([64, 3, 7, 7])\n",
      "bn1.weight:torch.Size([64])\n",
      "bn1.bias:torch.Size([64])\n",
      "layer1.0.conv1.weight:torch.Size([64, 64, 3, 3])\n",
      "layer1.0.bn1.weight:torch.Size([64])\n",
      "layer1.0.bn1.bias:torch.Size([64])\n",
      "layer1.0.conv2.weight:torch.Size([64, 64, 3, 3])\n",
      "layer1.0.bn2.weight:torch.Size([64])\n",
      "layer1.0.bn2.bias:torch.Size([64])\n",
      "layer1.1.conv1.weight:torch.Size([64, 64, 3, 3])\n",
      "layer1.1.bn1.weight:torch.Size([64])\n",
      "layer1.1.bn1.bias:torch.Size([64])\n",
      "layer1.1.conv2.weight:torch.Size([64, 64, 3, 3])\n",
      "layer1.1.bn2.weight:torch.Size([64])\n",
      "layer1.1.bn2.bias:torch.Size([64])\n",
      "layer2.0.conv1.weight:torch.Size([128, 64, 3, 3])\n",
      "layer2.0.bn1.weight:torch.Size([128])\n",
      "layer2.0.bn1.bias:torch.Size([128])\n",
      "layer2.0.conv2.weight:torch.Size([128, 128, 3, 3])\n",
      "layer2.0.bn2.weight:torch.Size([128])\n",
      "layer2.0.bn2.bias:torch.Size([128])\n",
      "layer2.0.downsample.0.weight:torch.Size([128, 64, 1, 1])\n",
      "layer2.0.downsample.1.weight:torch.Size([128])\n",
      "layer2.0.downsample.1.bias:torch.Size([128])\n",
      "layer2.1.conv1.weight:torch.Size([128, 128, 3, 3])\n",
      "layer2.1.bn1.weight:torch.Size([128])\n",
      "layer2.1.bn1.bias:torch.Size([128])\n",
      "layer2.1.conv2.weight:torch.Size([128, 128, 3, 3])\n",
      "layer2.1.bn2.weight:torch.Size([128])\n",
      "layer2.1.bn2.bias:torch.Size([128])\n",
      "layer3.0.conv1.weight:torch.Size([256, 128, 3, 3])\n",
      "layer3.0.bn1.weight:torch.Size([256])\n",
      "layer3.0.bn1.bias:torch.Size([256])\n",
      "layer3.0.conv2.weight:torch.Size([256, 256, 3, 3])\n",
      "layer3.0.bn2.weight:torch.Size([256])\n",
      "layer3.0.bn2.bias:torch.Size([256])\n",
      "layer3.0.downsample.0.weight:torch.Size([256, 128, 1, 1])\n",
      "layer3.0.downsample.1.weight:torch.Size([256])\n",
      "layer3.0.downsample.1.bias:torch.Size([256])\n",
      "layer3.1.conv1.weight:torch.Size([256, 256, 3, 3])\n",
      "layer3.1.bn1.weight:torch.Size([256])\n",
      "layer3.1.bn1.bias:torch.Size([256])\n",
      "layer3.1.conv2.weight:torch.Size([256, 256, 3, 3])\n",
      "layer3.1.bn2.weight:torch.Size([256])\n",
      "layer3.1.bn2.bias:torch.Size([256])\n",
      "layer4.0.conv1.weight:torch.Size([512, 256, 3, 3])\n",
      "layer4.0.bn1.weight:torch.Size([512])\n",
      "layer4.0.bn1.bias:torch.Size([512])\n",
      "layer4.0.conv2.weight:torch.Size([512, 512, 3, 3])\n",
      "layer4.0.bn2.weight:torch.Size([512])\n",
      "layer4.0.bn2.bias:torch.Size([512])\n",
      "layer4.0.downsample.0.weight:torch.Size([512, 256, 1, 1])\n",
      "layer4.0.downsample.1.weight:torch.Size([512])\n",
      "layer4.0.downsample.1.bias:torch.Size([512])\n",
      "layer4.1.conv1.weight:torch.Size([512, 512, 3, 3])\n",
      "layer4.1.bn1.weight:torch.Size([512])\n",
      "layer4.1.bn1.bias:torch.Size([512])\n",
      "layer4.1.conv2.weight:torch.Size([512, 512, 3, 3])\n",
      "layer4.1.bn2.weight:torch.Size([512])\n",
      "layer4.1.bn2.bias:torch.Size([512])\n",
      "fc.weight:torch.Size([1000, 512])\n",
      "fc.bias:torch.Size([1000])\n"
     ]
    }
   ],
   "source": [
    "from torchvision import models\n",
    "import torchvision\n",
    "import torch\n",
    "n_class = 200\n",
    "# 选择 resnet18 作为预训练模型\n",
    "model = models.resnet18(weights=models.ResNet18_Weights.DEFAULT)\n",
    "x = torch.ones(1,3,224,224)\n",
    "\n",
    "for name, variable in model.named_parameters():\n",
    "    \n",
    "    print('{}:{}'.format(name, variable.shape))\n",
    "\n",
    "# 修改最后一个全连接层\n",
    "#model.fc = nn.Linear(model.fc.in_features,n_class)"
   ]
  },
  {
   "cell_type": "code",
   "execution_count": 111,
   "id": "2f622008",
   "metadata": {},
   "outputs": [
    {
     "data": {
      "text/plain": [
       "Linear(in_features=512, out_features=200, bias=True)"
      ]
     },
     "execution_count": 111,
     "metadata": {},
     "output_type": "execute_result"
    }
   ],
   "source": [
    "model.fc"
   ]
  },
  {
   "cell_type": "code",
   "execution_count": 112,
   "id": "45c3e700",
   "metadata": {},
   "outputs": [],
   "source": [
    "import torch.optim as optim\n",
    "# 只是微调最后一层的参数，其余参数冻结\n",
    "optimizer = optim.Adam(model.fc.parameters())"
   ]
  },
  {
   "cell_type": "markdown",
   "id": "a84e84f3",
   "metadata": {},
   "source": [
    "#### method 2\n",
    "\n",
    "微调训练所有层\n",
    "\n",
    "`使用与预训练的对象图片差距较大的情况`"
   ]
  },
  {
   "cell_type": "code",
   "execution_count": 113,
   "id": "685e6579",
   "metadata": {},
   "outputs": [],
   "source": [
    "# 选择 resnet18 作为预训练模型\n",
    "# model = models.resnet18(pretrained=True)\n",
    "# model.fc = nn.Linear(model.fc.in_features,n_class)\n",
    "# optimizer = optim.Adam(model.parametrs())"
   ]
  },
  {
   "cell_type": "markdown",
   "id": "33b95066",
   "metadata": {},
   "source": [
    "#### method 3\n",
    "\n",
    "随机初始化模型全部权重，从头开始训练所有层\n",
    "\n",
    "`数据集与Image net差别很大`"
   ]
  },
  {
   "cell_type": "code",
   "execution_count": 114,
   "id": "2f59ed10",
   "metadata": {},
   "outputs": [],
   "source": [
    "# 选择 resnet18 作为预训练模型 ,只载入模型结构，不载入模型的权重\n",
    "# model = models.resnet18(pretrained=False)\n",
    "# model.fc = nn.Linear(model.fc.in_features,n_class)\n",
    "# optimizer = optim.Adam(model.parametrs())"
   ]
  },
  {
   "cell_type": "markdown",
   "id": "11617d97",
   "metadata": {},
   "source": [
    "#### 训练配置"
   ]
  },
  {
   "cell_type": "code",
   "execution_count": 115,
   "id": "cdb6968d",
   "metadata": {},
   "outputs": [],
   "source": [
    "device = torch.device('cuda:0' if torch.cuda.is_available() else 'cpu')\n",
    "model = model.to(device)\n",
    "# 交叉熵损失函数\n",
    "criterion = nn.CrossEntropyLoss()\n",
    "# 训练轮次\n",
    "Epoch = 10"
   ]
  },
  {
   "cell_type": "markdown",
   "id": "eab8e2b6",
   "metadata": {},
   "source": [
    "#### 模型一个 batch 的训练"
   ]
  },
  {
   "cell_type": "code",
   "execution_count": 116,
   "id": "a770d92a",
   "metadata": {},
   "outputs": [
    {
     "name": "stdout",
     "output_type": "stream",
     "text": [
      "torch.Size([200, 200])\n"
     ]
    }
   ],
   "source": [
    "# 获得一个 batch 的数据和标签\n",
    "imgs,label = next(iter(train_loader))\n",
    "imgs = imgs.to(device)\n",
    "labels = label.to(device)\n",
    "# 输出模型的执行结果\n",
    "outputs = model(imgs)\n",
    "# 获取当前 batch 所有图像的预测类别的 logit 分数\n",
    "print(outputs.shape)"
   ]
  },
  {
   "cell_type": "code",
   "execution_count": 117,
   "id": "f3384cae",
   "metadata": {},
   "outputs": [
    {
     "name": "stdout",
     "output_type": "stream",
     "text": [
      "tensor(5.4851, device='cuda:0', grad_fn=<NllLossBackward0>)\n"
     ]
    }
   ],
   "source": [
    "# 当前 batch 中每个样本的平均交叉熵损失函数值\n",
    "loss = criterion(outputs,labels)\n",
    "print(loss)"
   ]
  },
  {
   "cell_type": "code",
   "execution_count": 118,
   "id": "9e27351e",
   "metadata": {},
   "outputs": [],
   "source": [
    "optimizer.zero_grad() # 清除梯度\n",
    "loss.backward() # 反向传播\n",
    "optimizer.step() # 更新优化"
   ]
  },
  {
   "cell_type": "code",
   "execution_count": 119,
   "id": "f7aebe30",
   "metadata": {},
   "outputs": [
    {
     "name": "stdout",
     "output_type": "stream",
     "text": [
      "预测结果:\n",
      " tensor([165, 134,  35,  10, 170,  10, 192,  35,  35,  10,  35, 198,  35, 170,\n",
      "          5,  88, 103,  35,  40,  96,  10,  10,  35,  33,  35,  35,  35,  35,\n",
      "         10,  35,  35,  35,  35, 111,  35,   5, 186,  35, 198,  35,  10, 116,\n",
      "         35,  10,  35,   2,  40, 185, 178,  10,  10,  10,  32,  10,  33,  35,\n",
      "         10, 163,  10,  35,  35, 198,  10, 186,  40,  35,  35,  35, 198,  35,\n",
      "         35,   2,  68, 166,  10, 102, 185,  35, 186,  35, 178,  10, 170,  62,\n",
      "         10,  35, 111, 178, 144,  48,  10,  10,  35,  20, 166, 102,  10, 134,\n",
      "         10,  35,  35,  35, 133,   5, 103,  35,  10,  35,  35,  85,  10,  33,\n",
      "         10, 186,  10,  35,  10,  10,  10, 186,  40,  35,  10, 186,  33,  10,\n",
      "         33,  35,  35, 141,   2, 170, 111,  10,  35, 178,  10, 186,  35,  10,\n",
      "         35, 134,  10,  40,  10, 103, 170,  35, 119, 102, 178,  40, 102,  10,\n",
      "         10, 178,  68,  32,  35,  35,  35,  10, 103, 103,  35,  35, 170, 186,\n",
      "         40,  10,  42,  35, 198,  35,  35,  35, 166,  35, 178,  26, 186,  10,\n",
      "         40,  10, 165,  10, 198,  35,  35, 166,  18,  35,  35,  40,  96,  35,\n",
      "         35, 139, 185, 134], device='cuda:0')\n",
      "真实标签:\n",
      " tensor([ 44,  91, 157, 194,  15,  72, 125, 108,  51, 192,  26, 154,  93,  15,\n",
      "        169, 120,  33,  44,  90, 182, 152, 136,  70, 142, 184, 153,  97,  81,\n",
      "         64,  85, 175, 163,  50,   5,  36, 178, 123,   3,  39, 185, 141,  37,\n",
      "        146,  65, 199,  91,  60,  16,  54,  63, 125,  19, 164, 162, 109, 102,\n",
      "        116,  34,  72, 133,  49, 137, 191,  98,  62, 122,  10, 189, 148, 136,\n",
      "         48,  91,  52, 179, 196,  91, 138,  74,  86,  72,  45, 128, 163,  80,\n",
      "         67,  37,  72, 189,  10,  87, 182,  97, 151,  84, 136, 162,  68, 174,\n",
      "         19, 187, 189,  44,  55,  17,  41,  40, 195,  48,  61, 157, 105, 117,\n",
      "          1, 141, 176,  18,  64,  76, 171, 177, 123,  46, 196, 119, 114,  48,\n",
      "        121,  56,  32,   9,  24, 104, 140, 157,  96,  64,  98, 131, 110, 122,\n",
      "         69, 154,  77,  61, 148, 183, 108, 110,  97,  47,  90, 149, 198,  92,\n",
      "         77, 142,  87,  76, 118,  92,  94, 113,  22,  35,  95, 152,   6, 123,\n",
      "        160, 103,  65,  17, 139, 136, 108,  90, 172, 199,   6, 120, 129, 192,\n",
      "         99, 152,  24,  84, 151,  46, 159, 110,   3,  31,  79, 112,  66,  55,\n",
      "         34,  10, 135, 155])\n"
     ]
    }
   ],
   "source": [
    "# 获取当前 batch 所有图像的预测类别 \n",
    "_,preds = torch.max(outputs,1)\n",
    "\n",
    "print('预测结果:\\n',preds)\n",
    "print('真实标签:\\n',label)"
   ]
  },
  {
   "cell_type": "markdown",
   "id": "806f7479",
   "metadata": {},
   "source": [
    "####  完整训练"
   ]
  },
  {
   "cell_type": "code",
   "execution_count": 120,
   "id": "3fe93e21",
   "metadata": {},
   "outputs": [
    {
     "name": "stderr",
     "output_type": "stream",
     "text": [
      "100%|███████████████████████████████████████████████████████████████████████████████████| 10/10 [02:10<00:00, 13.07s/it]\n"
     ]
    }
   ],
   "source": [
    "for epoch in tqdm(range(Epoch)):\n",
    "    model.train()\n",
    "    for img,label in train_loader:\n",
    "        img = img.to(device)\n",
    "        label = label.to(device)\n",
    "        \n",
    "        output = model(img)\n",
    "        \n",
    "        loss = criterion(output,label)\n",
    "        \n",
    "        optimizer.zero_grad()\n",
    "        loss.backward()\n",
    "        optimizer.step()     "
   ]
  },
  {
   "cell_type": "markdown",
   "id": "238af84b",
   "metadata": {},
   "source": [
    "#### 在测试集上初步测试"
   ]
  },
  {
   "cell_type": "code",
   "execution_count": 126,
   "id": "0536e583",
   "metadata": {},
   "outputs": [
    {
     "name": "stderr",
     "output_type": "stream",
     "text": [
      "100%|███████████████████████████████████████████████████████████████████████████████████| 18/18 [00:06<00:00,  2.99it/s]"
     ]
    },
    {
     "name": "stdout",
     "output_type": "stream",
     "text": [
      "测试集上的准确率为 50.942 %\n"
     ]
    },
    {
     "name": "stderr",
     "output_type": "stream",
     "text": [
      "\n"
     ]
    }
   ],
   "source": [
    "model.eval()\n",
    "with torch.no_grad():\n",
    "    correct = 0\n",
    "    total = 0\n",
    "    for images ,labels in tqdm(val_loader):\n",
    "        images = images.to(device)\n",
    "        labels = labels.to(device)\n",
    "        output = model(images)\n",
    "        _,preds = torch.max(output,1)\n",
    "        total += labels.size(0)\n",
    "        correct += (preds == labels).sum()\n",
    "        \n",
    "    print('测试集上的准确率为 {:.3f} %'.format(100 * correct / total))"
   ]
  },
  {
   "cell_type": "markdown",
   "id": "6cde3647",
   "metadata": {},
   "source": [
    "#### 保存模型"
   ]
  },
  {
   "cell_type": "code",
   "execution_count": 127,
   "id": "f1ba3b2c",
   "metadata": {},
   "outputs": [],
   "source": [
    "torch.save(model,'../Demo_zihao/checkpoints/bird200_2022_11_7.pth')"
   ]
  }
 ],
 "metadata": {
  "kernelspec": {
   "display_name": "Python 3.9.13 ('pytorch_gpu')",
   "language": "python",
   "name": "python3"
  },
  "language_info": {
   "codemirror_mode": {
    "name": "ipython",
    "version": 3
   },
   "file_extension": ".py",
   "mimetype": "text/x-python",
   "name": "python",
   "nbconvert_exporter": "python",
   "pygments_lexer": "ipython3",
   "version": "3.9.13"
  },
  "vscode": {
   "interpreter": {
    "hash": "620e0971fdfedb47815252a730f9c9fc24e1c5eb66f4c856afd7a9506a291b64"
   }
  }
 },
 "nbformat": 4,
 "nbformat_minor": 5
}
