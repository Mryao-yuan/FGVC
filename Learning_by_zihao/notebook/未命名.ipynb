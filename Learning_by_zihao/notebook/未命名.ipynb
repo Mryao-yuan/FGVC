{
 "cells": [
  {
   "cell_type": "markdown",
   "id": "f949b381",
   "metadata": {},
   "source": [
    "# 在测试集上评估图像分类算法的的精度"
   ]
  },
  {
   "cell_type": "code",
   "execution_count": null,
   "id": "1ef95361",
   "metadata": {},
   "outputs": [],
   "source": []
  },
  {
   "cell_type": "code",
   "execution_count": null,
   "id": "e2e3f6da",
   "metadata": {},
   "outputs": [],
   "source": []
  }
 ],
 "metadata": {
  "kernelspec": {
   "display_name": "Python [conda env:pytorch_gpu]",
   "language": "python",
   "name": "conda-env-pytorch_gpu-py"
  },
  "language_info": {
   "codemirror_mode": {
    "name": "ipython",
    "version": 3
   },
   "file_extension": ".py",
   "mimetype": "text/x-python",
   "name": "python",
   "nbconvert_exporter": "python",
   "pygments_lexer": "ipython3",
   "version": "3.9.13"
  }
 },
 "nbformat": 4,
 "nbformat_minor": 5
}
