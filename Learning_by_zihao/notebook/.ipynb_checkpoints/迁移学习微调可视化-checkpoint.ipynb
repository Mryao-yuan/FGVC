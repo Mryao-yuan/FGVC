{
 "cells": [
  {
   "cell_type": "markdown",
   "id": "1396ef34",
   "metadata": {},
   "source": [
    "# 迁移学习微调训练-可视化"
   ]
  },
  {
   "cell_type": "code",
   "execution_count": 12,
   "id": "d03bb88e",
   "metadata": {},
   "outputs": [
    {
     "name": "stderr",
     "output_type": "stream",
     "text": [
      "/home/yy/anaconda3/envs/pytorch_gpu/lib/python3.9/site-packages/torchvision/models/_utils.py:208: UserWarning: The parameter 'pretrained' is deprecated since 0.13 and will be removed in 0.15, please use 'weights' instead.\n",
      "  warnings.warn(\n",
      "/home/yy/anaconda3/envs/pytorch_gpu/lib/python3.9/site-packages/torchvision/models/_utils.py:223: UserWarning: Arguments other than a weight enum or `None` for 'weights' are deprecated since 0.13 and will be removed in 0.15. The current behavior is equivalent to passing `weights=ResNet18_Weights.IMAGENET1K_V1`. You can also use `weights=ResNet18_Weights.DEFAULT` to get the most up-to-date weights.\n",
      "  warnings.warn(msg)\n"
     ]
    }
   ],
   "source": [
    "import torch\n",
    "from torchvision import models\n",
    "from  torch import nn,optim\n",
    "import numpy\n",
    "out_class = 200\n",
    "\n",
    "model = models.resnet18(pretrained = True)\n",
    "model.fc = nn.Linear(model.fc.in_features,out_class)\n",
    "\n",
    "device = torch.device('cuda:0' if torch.cuda.is_available() else 'cpu')\n",
    "\n",
    "critrion = nn.CrossEntropyLoss()\n",
    "\n",
    "\n",
    "optimizer = optim.Adam(model.fc.parameters())"
   ]
  },
  {
   "cell_type": "code",
   "execution_count": null,
   "id": "b014bd2f",
   "metadata": {},
   "outputs": [],
   "source": [
    "from torch.optim import lr_scheduler\n",
    "\n",
    "Epoch =30\n",
    "\n",
    "# 学习率降低策略：每隔5个epoch降低一半\n",
    "lr_scheduler = lr_scheduler.StepLR(optimizer,step_size=5,gamma=0.5)\n",
    "\n",
    "\n",
    "# 运行一个 batch 的训练，返回当前 batch 的训练日志\n",
    "\n",
    "def train_one_batch(imgs,labels):\n",
    "    imgs = imgs.to(device)\n",
    "    labels = labelss.to(device)\n",
    "    \n",
    "    outputs = model(imgs)\n",
    "    loss = critrion(outputs,labels)\n",
    "    \n",
    "    optimizer.zero_grad()\n",
    "    loss.backward()\n",
    "    optimizer.step()\n",
    "    \n",
    "    _,preds = torch.max(outputs,1)\n",
    "    \n",
    "    preds = preds.cpu().numpy()\n",
    "    loss = loss.detach().cpu().numpy()\n",
    "    outputs = outputs.detach().cpu().numpy()\n",
    "    labels = labels.detach().cpu().numpy()\n",
    "    \n",
    "    log_train ={}\n",
    "    log_train{'epoch'} = epoch\n",
    "    log_train{'batch'} = batch_idx\n",
    "    \n",
    "    # 计算分类评估指标\n",
    "    \n",
    "    \n",
    "    "
   ]
  }
 ],
 "metadata": {
  "kernelspec": {
   "display_name": "Python [conda env:pytorch_gpu]",
   "language": "python",
   "name": "conda-env-pytorch_gpu-py"
  },
  "language_info": {
   "codemirror_mode": {
    "name": "ipython",
    "version": 3
   },
   "file_extension": ".py",
   "mimetype": "text/x-python",
   "name": "python",
   "nbconvert_exporter": "python",
   "pygments_lexer": "ipython3",
   "version": "3.9.13"
  }
 },
 "nbformat": 4,
 "nbformat_minor": 5
}
